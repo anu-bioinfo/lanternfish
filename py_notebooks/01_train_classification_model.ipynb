{
 "cells": [
  {
   "cell_type": "code",
   "execution_count": null,
   "metadata": {
    "collapsed": true,
    "deletable": true,
    "editable": true
   },
   "outputs": [],
   "source": [
    "'''\n",
    "Train a Lanternfish classification CNN\n",
    "\n",
    "\n",
    "This notebook outlines how to train a CNN classifier to discrimate\n",
    "simulated random walks, power fliers, and fractal Brownian motion.\n",
    "'''\n",
    "\n",
    "from motcube_preprocessing import *\n",
    "from keras.callbacks import ModelCheckpoint, LearningRateScheduler, EarlyStopping, CSVLogger\n",
    "from keras.optimizers import SGD\n",
    "import numpy as np\n",
    "\n",
    "# Lanternfish models are stored in bestiary\n",
    "# multicontextL classifies an arbitrary number of classes using stacked\n",
    "# 3D-convolutional layers\n",
    "from bestiary import multi_contextL as model_fcn"
   ]
  },
  {
   "cell_type": "code",
   "execution_count": null,
   "metadata": {
    "collapsed": true,
    "deletable": true,
    "editable": true
   },
   "outputs": [],
   "source": [
    "# Define a learning rate schedule function\n",
    "# and set the optimizer\n",
    "def lr_schedule(rate=0.01, decay=0.8):\n",
    "    '''\n",
    "    Generates a schedule function with exp decay\n",
    "\n",
    "    alpha_new = alpha_init * decay_coeff^epoch\n",
    "\n",
    "    Parameters\n",
    "    ----------\n",
    "    rate : float.\n",
    "        learning rate.\n",
    "    decay : float.\n",
    "        decay coefficient\n",
    "    '''\n",
    "    def sched(epoch):\n",
    "        return (rate * (decay**np.int(epoch)))\n",
    "    return sched\n",
    "\n",
    "sched = lr_schedule(rate = 0.005, decay = 0.8)\n",
    "sgd = SGD(momentum = 0.5)"
   ]
  },
  {
   "cell_type": "code",
   "execution_count": null,
   "metadata": {
    "collapsed": true,
    "deletable": true,
    "editable": true
   },
   "outputs": [],
   "source": [
    "# Set data directories and training parameters\n",
    "train_dir = '/path/to/sim_data/train'\n",
    "val_dir = '/path/to/sim_data/val'\n",
    "batch_size = 12\n",
    "cube_size = (156,156,101) # (x, y, t)\n",
    "file_name_save = 'multiclass.h5'"
   ]
  },
  {
   "cell_type": "code",
   "execution_count": null,
   "metadata": {
    "collapsed": true,
    "deletable": true,
    "editable": true
   },
   "outputs": [],
   "source": [
    "# Set training callbacks for keras .fit_generator() \n",
    "#\n",
    "# ModelCheckpoint saves model with lowest val loss\n",
    "# LearningRateScheduler applies the scheduling function\n",
    "# EarlyStopping halts training if val loss stops improving\n",
    "# CSVLogger writes training data to a CSV\n",
    "callbacks = [ModelCheckpoint(file_name_save, monitor = 'val_loss', verbose = 0, save_best_only = True, mode = 'auto'),\n",
    "    LearningRateScheduler(sched),\n",
    "    EarlyStopping(monitor='val_loss', patience=3),\n",
    "    CSVLogger(filename=file_name_save[:-3]+'_train_log.csv', separator=',')]"
   ]
  },
  {
   "cell_type": "code",
   "execution_count": null,
   "metadata": {
    "collapsed": true,
    "deletable": true,
    "editable": true
   },
   "outputs": [],
   "source": [
    "# Set up motion cube data generators using MotcubeDataGenerator()\n",
    "# from motcube_preprocessing.py\n",
    "mcgen = MotcubeDataGenerator()\n",
    "mc_generator = mcgen.flow_from_directory(train_dir, class_mode = 'categorical', color_mode='grayscale', target_size = cube_size, batch_size = batch_size)\n",
    "valgen = MotcubeDataGenerator()\n",
    "val_generator = valgen.flow_from_directory(val_dir, class_mode = 'categorical', color_mode='grayscale', target_size = cube_size, batch_size = batch_size)"
   ]
  },
  {
   "cell_type": "code",
   "execution_count": null,
   "metadata": {
    "collapsed": true,
    "deletable": true,
    "editable": true
   },
   "outputs": [],
   "source": [
    "# initialize and compile the model\n",
    "model = model_fcn(batch_size = batch_size, nb_classes = 3, nb_channels=1, image_x=cube_size[0], image_y=cube_size[1], image_z=cube_size[2])\n",
    "model.compile(optimizer=sgd, metrics=['accuracy'], loss='categorical_crossentropy')"
   ]
  },
  {
   "cell_type": "code",
   "execution_count": null,
   "metadata": {
    "collapsed": true,
    "deletable": true,
    "editable": true
   },
   "outputs": [],
   "source": [
    "# train the model\n",
    "hist = model.fit_generator(mc_generator, samples_per_epoch=mc_generator.nb_sample//4, nb_epoch=30, callbacks=callbacks, validation_data=val_generator, nb_val_samples=val_generator.nb_sample)"
   ]
  }
 ],
 "metadata": {
  "kernelspec": {
   "display_name": "Python 3",
   "language": "python",
   "name": "python3"
  },
  "language_info": {
   "codemirror_mode": {
    "name": "ipython",
    "version": 3
   },
   "file_extension": ".py",
   "mimetype": "text/x-python",
   "name": "python",
   "nbconvert_exporter": "python",
   "pygments_lexer": "ipython3",
   "version": "3.5.2"
  }
 },
 "nbformat": 4,
 "nbformat_minor": 2
}
